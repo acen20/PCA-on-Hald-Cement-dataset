{
 "cells": [
  {
   "cell_type": "code",
   "execution_count": 1,
   "metadata": {},
   "outputs": [],
   "source": [
    "import pandas as pd\n",
    "from sklearn.decomposition import PCA\n",
    "import numpy as np\n",
    "import matplotlib.pyplot as plt"
   ]
  },
  {
   "cell_type": "code",
   "execution_count": 2,
   "metadata": {},
   "outputs": [],
   "source": [
    "hald = pd.read_csv('hald.csv')"
   ]
  },
  {
   "cell_type": "code",
   "execution_count": 3,
   "metadata": {},
   "outputs": [],
   "source": [
    "ingredients_list = ['X1','X2','X3','X4']\n",
    "ingredients = hald[ingredients_list]"
   ]
  },
  {
   "cell_type": "code",
   "execution_count": 4,
   "metadata": {
    "scrolled": false
   },
   "outputs": [
    {
     "name": "stdout",
     "output_type": "stream",
     "text": [
      "           0         1         2         3\n",
      "X1 -0.067800 -0.678516  0.029021  0.730874\n",
      "X2  0.646018  0.019993 -0.755310  0.108480\n",
      "X3  0.567315 -0.543969  0.403553 -0.468398\n",
      "X4 -0.506180 -0.493268 -0.515567 -0.484416\n"
     ]
    }
   ],
   "source": [
    "pca = PCA()\n",
    "pca.fit_transform(ingredients)\n",
    "coeff = pca.components_\n",
    "print(pd.DataFrame(coeff, index = ingredients_list)) #coefficients"
   ]
  },
  {
   "cell_type": "code",
   "execution_count": 5,
   "metadata": {
    "scrolled": false
   },
   "outputs": [
    {
     "name": "stdout",
     "output_type": "stream",
     "text": [
      "           0         1         2         3\n",
      "X1  0.333318 -0.000022  0.000047  0.002262\n",
      "X2 -0.000022  0.333303  0.000066  0.003196\n",
      "X3  0.000047  0.000066  0.333190 -0.006914\n",
      "X4  0.002262  0.003196 -0.006914  0.000190\n"
     ]
    }
   ],
   "source": [
    "cov_matrix = np.cov(coeff)\n",
    "print(pd.DataFrame(cov_matrix, index = ingredients_list )) #covariance of coeff"
   ]
  },
  {
   "cell_type": "code",
   "execution_count": 6,
   "metadata": {},
   "outputs": [
    {
     "name": "stdout",
     "output_type": "stream",
     "text": [
      "            0          1         2         3\n",
      "0   36.821826   6.870878 -4.590944 -0.396653\n",
      "1   29.607273  -4.610882 -2.247578  0.395844\n",
      "2  -12.981776   4.204913  0.902243  1.126101\n",
      "3   23.714726   6.634053  1.854742  0.378565\n",
      "4   -0.553192   4.461732 -6.087413 -0.142385\n",
      "5  -10.812491   3.646571  0.912971  0.134969\n",
      "6  -32.588167  -8.979846 -1.606266 -0.081764\n",
      "7   22.606395 -10.725906  3.236538 -0.324335\n",
      "8   -9.262587  -8.985373 -0.016910  0.543746\n",
      "9   -3.283969  14.157277  7.046513 -0.340510\n",
      "10   9.220031 -12.386081  3.428343 -0.435153\n",
      "11 -25.584909   2.781693 -0.386716 -0.446818\n",
      "12 -26.903162   2.930971 -2.445523 -0.411607\n"
     ]
    }
   ],
   "source": [
    "#eigenvectors\n",
    "score = pca.transform(ingredients)\n",
    "print(pd.DataFrame(score))"
   ]
  },
  {
   "cell_type": "code",
   "execution_count": 7,
   "metadata": {
    "scrolled": false
   },
   "outputs": [
    {
     "name": "stdout",
     "output_type": "stream",
     "text": [
      "            0\n",
      "0  517.796878\n",
      "1   67.496436\n",
      "2   12.405430\n",
      "3    0.237153\n"
     ]
    }
   ],
   "source": [
    "#eigenvalues\n",
    "latent = pca.explained_variance_\n",
    "print(pd.DataFrame(latent))"
   ]
  },
  {
   "cell_type": "code",
   "execution_count": 8,
   "metadata": {},
   "outputs": [
    {
     "name": "stdout",
     "output_type": "stream",
     "text": [
      "          0\n",
      "0  0.865974\n",
      "1  0.112882\n",
      "2  0.020747\n",
      "3  0.000397\n"
     ]
    }
   ],
   "source": [
    "#explained\n",
    "explained = pca.explained_variance_ratio_\n",
    "print(pd.DataFrame(explained))"
   ]
  },
  {
   "cell_type": "code",
   "execution_count": 9,
   "metadata": {
    "scrolled": true
   },
   "outputs": [
    {
     "data": {
      "image/png": "[encoded data removed]",
      "text/plain": [
       "<Figure size 432x288 with 1 Axes>"
      ]
     },
     "metadata": {
      "needs_background": "light"
     },
     "output_type": "display_data"
    }
   ],
   "source": [
    "reducedDim = 2\n",
    "y = explained[:reducedDim]\n",
    "x = ['1','2']\n",
    "plt.bar(x, y, width = 0.3, color = 'C4')\n",
    "plt.xlabel('Principal Components')\n",
    "plt.ylabel('PoV(%)')\n",
    "plt.title('Principal Components Variance')\n",
    "plt.show()"
   ]
  },
  {
   "cell_type": "code",
   "execution_count": null,
   "metadata": {},
   "outputs": [],
   "source": []
  }
 ],
 "metadata": {
  "kernelspec": {
   "display_name": "Python 3",
   "language": "python",
   "name": "python3"
  },
  "language_info": {
   "codemirror_mode": {
    "name": "ipython",
    "version": 3
   },
   "file_extension": ".py",
   "mimetype": "text/x-python",
   "name": "python",
   "nbconvert_exporter": "python",
   "pygments_lexer": "ipython3",
   "version": "3.7.1"
  }
 },
 "nbformat": 4,
 "nbformat_minor": 2
}
